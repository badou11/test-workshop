{
  "nbformat": 4,
  "nbformat_minor": 0,
  "metadata": {
    "colab": {
      "name": "Fashion MNIST / TensorFlow : Classification d'images - Folks",
      "version": "0.3.2",
      "provenance": [],
      "collapsed_sections": []
    },
    "kernelspec": {
      "name": "python3",
      "display_name": "Python 3"
    },
    "accelerator": "GPU"
  },
  "cells": [
    {
      "metadata": {
        "colab_type": "text",
        "id": "jYysdyb-CaWM"
      },
      "cell_type": "markdown",
      "source": [
        "### GalsenAI Workshops | 1ère édition | 23/03/2019\n",
        "---\n",
        "# Fashion MNIST / TensorFlow : Classification d'images\n",
        "---\n",
        "![alt text](https://lh3.googleusercontent.com/W9qjYIFeKhqR9WW1f0P_UAEOg1NsRIXh3k3M895UKYy8TsHR_70w3q0OgjdgIalEeWVzpDHDC2_NcGlWnkamuv4MC2LHnVRXv1lohcEB-rwmswBcVuM9PuLSjwtaVsggzQE48CowuFdjl9RWXEGWvBkPyBZwAoVEJx7jpEjGrTb1GuZlUEMb_lgjtSCVUYQ9dIOAokK8ElJXqz4XQcbQcQ7ia9JGBm6yi5l00rArmRB_M5am2vHMvSguJJ0en11K5VyvszAZsJHmkb-54nJQhiPvhFOknsV84BtQ0X76CfACzy6s7xBZrjzi_8mbAfAB-W5ZokURlkjgunz6o1LL3KySLrMNFIH14GcUBkU1t1Il2E_UW_aWeCYztTtyR1iAjacK46JuWlZIUzifXbjKZ-EoAgY47IpFcbmn0-96pjHc0GyIcP_I2WPJpvt7ZegGZn7azF0SbPFDfx1YxevuVltNxZo07s0vlB_GFpc9z3QZMWObLkhht7l02m9L7PyFzU3oia-RDjaGLJANEz2chJtbVpTWgAk3BhG-gCbNwZxKjVAMdeTH6zSnFwIYc4bdHk6BhDYA-ccHbQSqcjEGH5GDuVYITLkqS8AF8jz5eudU8Fc9G7LKCXcaNCAWvg2KlqeK9xtVmlZSoI-iJ-wPU_Gsqxf_RQ=w1920-h1200-no)\n",
        "---\n",
        "Hey Hey ! 😊Bienvenue dans ce super mega excitant workshop ! Aujourd'hui nous allons apprendre à utiliser TensorFlow avec le langage de programmation Python et le jeu de données Fashion MNIST pour classifier des images de mode en utilisant deux architectures de réseaux de neuronnes different:\n",
        "\n",
        "1.   Un réseau de neuronnes simple (feed-forward) ou réseaux de perceptrons à multi-couches (MLP)\n",
        "2.   Un réseau de neuronnes convolutionnel (RNC)\n",
        "\n",
        "Plus spécifiquement nous allons utiliser ** *tf.keras* ** qui est une API de haut niveau sur TensorFlow pour faciliter la création et l'entrainement de notre modèle\n",
        "\n",
        "\n",
        "## Are You Reaaaaaaaady ! Set ! Go ! 🤤🤤🤤🤤\n",
        "![alt text](https://media.giphy.com/media/lluj1cauAlO2vQEm8A/giphy.gif)\n",
        "\n"
      ]
    },
    {
      "metadata": {
        "id": "MsLEEaswdrzG",
        "colab_type": "text"
      },
      "cell_type": "markdown",
      "source": [
        "## Definitions\n",
        "\n",
        "*   ** TensorFlow ** : Créée par l'équipe Google Brain, TensorFlow est une bibliothèque open source pour le calcul numérique et l'apprentissage automatique à grande échelle. TensorFlow regroupe une multitude de modèles et d’algorithmes d’apprentissage automatique et d’apprentissage approfondi (réseautage neuronal) et les rend utiles au moyen d’une métaphore commune. Il utilise Python pour fournir une API frontale pratique permettant de créer des applications avec la structure, tout en les exécutant en C ++ hautes performances.\n",
        "*   ** Keras ** : Bien que les réseaux de neurones profonds fassent fureur, la complexité des principaux cadres constitue un obstacle à leur utilisation par les développeurs novices en apprentissage automatique. Plusieurs propositions d'améliorations et de simplification des API de haut niveau pour la construction de modèles de réseaux neuronaux ont été proposées. Toutes ont tendance à ressembler de loin, mais montrent des différences à l'examen.\n",
        "Keras est l’un des principaux API de réseaux de neurones de haut niveau. Il est écrit en Python et prend en charge plusieurs moteurs de calcul de réseau neuronal dorsaux.\n",
        "*   ** MNIST ** : La base de données MNIST (base de données modifiée de l'Institut national des normes et de la technologie) est une vaste base de données de chiffres manuscrits qui est couramment utilisée pour la formation de divers systèmes de traitement d'images.\n",
        "MNIST est maintenant devenu un ensemble de données de formation standard pour les chiffres en anglais. Il existe des bases de données similaires établies par d’autres pour des jeux de données de formation pour les chiffres dans d’autres langues et pour les caractères en anglais et dans d’autres langues.\n",
        "*   ** Fashion MNIST ** : Fashion-MNIST est un ensemble de données d’images d’articles de Zalando comprenant 60 000 exemples de formation et 10 000 exemples de tests. Chaque exemple est une image 28 × 28 en niveaux de gris, associée à une étiquette de 10 classes. Fashion-MNIST est destiné à remplacer directement le jeu de données MNIST d'origine pour l'analyse comparative des algorithmes d'apprentissage automatique.\n",
        "\n"
      ]
    },
    {
      "metadata": {
        "colab_type": "text",
        "id": "H0tMfX2vR0uD"
      },
      "cell_type": "markdown",
      "source": [
        "## Installation de quelques librairies (dependances) supplémentaires\n",
        "Pour installer des librairies dans ** *Colab* ** , on excute la commande: ** *pip install nom_de_la_librarie==version* ** . Mais vu que ** *pip* ** est une commande ** *Shell* ** alors il faut tout le temps mettre un ** *!* ** devant la commande pour dire à ** *Colab* ** que nous voulons executer une commande ** *Shell* ** .\n",
        "\n",
        "Nous allons à présent installer **[TensorFlow](https://www.tensorflow.org)** et **[TensorFlow Datasets](https://www.tensorflow.org/datasets/)** . **TensorFlow Datasets** est un sous-module de **TensorFlow** qui permet de télécharger et de manipuler des jeux de données en les préparant pour être facilement utilisable avec **TensorFlow** dans le format ** *tf.dataset* **"
      ]
    },
    {
      "metadata": {
        "colab_type": "code",
        "id": "P7mUJVqcINSM",
        "colab": {}
      },
      "cell_type": "code",
      "source": [
        "!pip install tensorflow==2.0.0-alpha0\n",
        "!pip install -U tensorflow_datasets"
      ],
      "execution_count": 0,
      "outputs": []
    },
    {
      "metadata": {
        "id": "O8H-Yoe-hUC5",
        "colab_type": "text"
      },
      "cell_type": "markdown",
      "source": [
        "## Importation de nos librairies dans notre environnement de travail"
      ]
    },
    {
      "metadata": {
        "colab_type": "code",
        "id": "dzLKpmZICaWN",
        "outputId": "c94b84db-569e-4904-fd54-8a4047c0d3ff",
        "colab": {
          "base_uri": "https://localhost:8080/",
          "height": 34
        }
      },
      "cell_type": "code",
      "source": [
        "from __future__ import absolute_import, division, print_function\n",
        "\n",
        "\n",
        "# Importation de TensorFlow et de TensorFlow Datasets\n",
        "import tensorflow as tf\n",
        "import tensorflow_datasets as tfds\n",
        "\n",
        "# les autres librairies utilitaires dont on ne peut pas se passer pour faire fonctionner notre code\n",
        "import math\n",
        "import matplotlib.pyplot as plt\n",
        "\n",
        "# On teste pour voir si TensorFlow s'est bien installée\n",
        "print(tf.__version__)  "
      ],
      "execution_count": 0,
      "outputs": [
        {
          "output_type": "stream",
          "text": [
            "2.0.0-alpha0\n"
          ],
          "name": "stdout"
        }
      ]
    },
    {
      "metadata": {
        "colab_type": "text",
        "id": "yR0EdgrLCaWR"
      },
      "cell_type": "markdown",
      "source": [
        "## Téléchargement du jeu de données Fashion MNIST"
      ]
    },
    {
      "metadata": {
        "colab_type": "text",
        "id": "DLdCchMdCaWQ"
      },
      "cell_type": "markdown",
      "source": [
        "**On va utiliser Fasion MNIST qui contient 70 000 images qui peuvent etre classees en 10 differentes categories (t-shirt, sandales, ....)**\n",
        "<br/><br/>\n",
        "\n",
        "![alt text](https://tensorflow.org/images/fashion-mnist-sprite.png)\n",
        "<br />\n",
        "<a href=\"https://github.com/zalandoresearch/fashion-mnist\">Example du jeu de donnees Fashion-MNIST</a> (par Zalando, MIT License).<br/>&nbsp;\n",
        "\n",
        "**Fashion MNIST est un \"remplacement\" de MNIST [MNIST](http://yann.lecun.com/exdb/mnist/) qui contient des images avec les nombres 0 a 9.**\n",
        "\n",
        "Fshion MNIST est un peu plus difficile que le MNIST original en terme d'apprentissage car ayant plus de varitete\n",
        "\n",
        "elle contient 70 000 images, on va utiliser 60 000 image pour l'entrainement du model et les 10 000 restants pour tester les performances du model**"
      ]
    },
    {
      "metadata": {
        "colab_type": "code",
        "id": "7MqDQO0KCaWS",
        "colab": {}
      },
      "cell_type": "code",
      "source": [
        "dataset, metadata = tfds.load('fashion_mnist', as_supervised=True, with_info=True)\n",
        "train_dataset, test_dataset = dataset['train'], dataset['test']"
      ],
      "execution_count": 0,
      "outputs": []
    },
    {
      "metadata": {
        "colab_type": "text",
        "id": "t9FDsUlxCaWW"
      },
      "cell_type": "markdown",
      "source": [
        "le chargement des donnees nous donne un jeu d'apprentissage et un jeu de test. \n",
        "\n",
        "* l'utilisation de  with_info permet d'avoir une variable en retour qui va contenir les informations sur le jeu de donnees telles que le nombre d'observation(Dans les NORMES)\n",
        "* l'utilisation de as_supervised permet de retourner le jeu donnees sous forme de couple par observation (image,label)\n",
        "\n",
        "les images sont des matrices 28 $\\times$ 28, avec des valeurs dans l'intervalle `[0, 255]`. Les *labels* sont respresentes par un tableau d'entiers, dans l'intervalle `[0, 9]`. ces entiers correspondent aux 10 differentes categories d'images sur le jeu de donnees (Vive les nombres):\n",
        "\n",
        "<table>\n",
        "  <tr>\n",
        "    <th>Label</th>\n",
        "    <th>Categorie</th> \n",
        "  </tr>\n",
        "  <tr>\n",
        "    <td>0</td>\n",
        "    <td>T-shirt/top</td> \n",
        "  </tr>\n",
        "  <tr>\n",
        "    <td>1</td>\n",
        "    <td>Trouser</td> \n",
        "  </tr>\n",
        "    <tr>\n",
        "    <td>2</td>\n",
        "    <td>Pullover</td> \n",
        "  </tr>\n",
        "    <tr>\n",
        "    <td>3</td>\n",
        "    <td>Dress</td> \n",
        "  </tr>\n",
        "    <tr>\n",
        "    <td>4</td>\n",
        "    <td>Coat</td> \n",
        "  </tr>\n",
        "    <tr>\n",
        "    <td>5</td>\n",
        "    <td>Sandal</td> \n",
        "  </tr>\n",
        "    <tr>\n",
        "    <td>6</td>\n",
        "    <td>Shirt</td> \n",
        "  </tr>\n",
        "    <tr>\n",
        "    <td>7</td>\n",
        "    <td>Sneaker</td> \n",
        "  </tr>\n",
        "    <tr>\n",
        "    <td>8</td>\n",
        "    <td>Bag</td> \n",
        "  </tr>\n",
        "    <tr>\n",
        "    <td>9</td>\n",
        "    <td>Ankle boot</td> \n",
        "  </tr>\n",
        "</table>\n",
        "\n",
        "On va creer un tableau pour mapper les entiers sur notre jeu de donnees correspondant aux differentes categories d'images"
      ]
    },
    {
      "metadata": {
        "colab_type": "code",
        "id": "IjnLH5S2CaWx",
        "colab": {}
      },
      "cell_type": "code",
      "source": [
        "class_names = ['T-shirt', 'Pantalon', 'Pull', 'Robe', 'Manteau', 'Sandale', 'Chemise', 'Basket', 'Sac', 'Bottine']"
      ],
      "execution_count": 0,
      "outputs": []
    },
    {
      "metadata": {
        "colab_type": "text",
        "id": "Brm0b_KACaWX"
      },
      "cell_type": "markdown",
      "source": [
        "### Explorons les images\n",
        "Et oui ! il faut tout le temps explorer ses données avant de les utiliser 😉"
      ]
    },
    {
      "metadata": {
        "colab_type": "code",
        "id": "MaOTZxFzi48X",
        "outputId": "aafb776e-8cab-46f7-bc6c-901cda42f23c",
        "colab": {
          "base_uri": "https://localhost:8080/",
          "height": 51
        }
      },
      "cell_type": "code",
      "source": [
        "num_train_examples = metadata.splits['train'].num_examples\n",
        "num_test_examples = metadata.splits['test'].num_examples\n",
        "\n",
        "print(f\"Nombre d'observations pour l'apprentissage: {num_train_examples}\")\n",
        "print(f\"Nombre d'observations pour l'evaluation du model: {num_test_examples}\")"
      ],
      "execution_count": 0,
      "outputs": [
        {
          "output_type": "stream",
          "text": [
            "Nombre d'observations pour l'apprentissage: 60000\n",
            "Nombre d'observations pour l'evaluation du model: 10000\n"
          ],
          "name": "stdout"
        }
      ]
    },
    {
      "metadata": {
        "id": "yaXSaTLgmwxy",
        "colab_type": "code",
        "colab": {}
      },
      "cell_type": "code",
      "source": [
        "my_image = next(iter(train_dataset))[0].numpy()"
      ],
      "execution_count": 0,
      "outputs": []
    },
    {
      "metadata": {
        "colab_type": "text",
        "id": "ES6uQoLKCaWr"
      },
      "cell_type": "markdown",
      "source": [
        "## \"Normalisons\" les images\n",
        "\n",
        "Comme mentionne precedement les images sont dans l'intervalle  `[0,255]`, on va les transformer pour les forcer dans l'intervalle `[0,1]`."
      ]
    },
    {
      "metadata": {
        "colab_type": "code",
        "id": "nAsH3Zm-76pB",
        "colab": {}
      },
      "cell_type": "code",
      "source": [
        "def normalize(images, labels):\n",
        "  \"\"\"\n",
        "  Cette fonction sera appliquee sur chaque image\n",
        "  \"\"\"\n",
        "  images = tf.cast(images, tf.float32)\n",
        "  images /= 255\n",
        "  return images, labels\n",
        "\n",
        "\n",
        "train_dataset =  train_dataset.map(normalize)\n",
        "test_dataset  =  test_dataset.map(normalize)"
      ],
      "execution_count": 0,
      "outputs": []
    },
    {
      "metadata": {
        "colab_type": "text",
        "id": "lIQbEiJGXM-q"
      },
      "cell_type": "markdown",
      "source": [
        "### Explore the processed data\n",
        "\n",
        "Let's plot an image to see what it looks like."
      ]
    },
    {
      "metadata": {
        "colab_type": "code",
        "id": "oSzE9l7PjHx0",
        "outputId": "c5f2095b-f485-4867-cf3c-a92a05b37dbb",
        "colab": {
          "base_uri": "https://localhost:8080/",
          "height": 351
        }
      },
      "cell_type": "code",
      "source": [
        "# On va prendre une image et enlever la derniere dimesion qui represente la couleure(toute facon on a qu'un seul element)\n",
        "image = next(iter(test_dataset.take(1)))[0].numpy().reshape((28,28))\n",
        "\n",
        "# Affichons l'image - La mode dans toute sa splendeur\n",
        "plt.figure()\n",
        "plt.imshow(image, cmap=plt.cm.binary)\n",
        "plt.colorbar()\n",
        "plt.grid(False)\n",
        "plt.show()"
      ],
      "execution_count": 0,
      "outputs": [
        {
          "output_type": "display_data",
          "data": {
            "image/png": "[encoded data removed]",
            "text/plain": [
              "<Figure size 576x396 with 2 Axes>"
            ]
          },
          "metadata": {
            "tags": []
          }
        }
      ]
    },
    {
      "metadata": {
        "colab_type": "text",
        "id": "Ee638AlnCaWz"
      },
      "cell_type": "markdown",
      "source": [
        "On va maintenant afficher 25 images pour mieux apprecier le monde de la mode (Qui peut le moins peut le plus :) )"
      ]
    },
    {
      "metadata": {
        "colab_type": "code",
        "id": "oZTImqg_CaW1",
        "outputId": "46bf4550-ba15-48e3-82fc-bb343de46ccd",
        "colab": {
          "base_uri": "https://localhost:8080/",
          "height": 589
        }
      },
      "cell_type": "code",
      "source": [
        "plt.figure(figsize=(10,10))\n",
        "i = 0\n",
        "for (image, label) in test_dataset.take(25):\n",
        "    image = image.numpy().reshape((28,28))\n",
        "    plt.subplot(5,5,i+1)\n",
        "    plt.xticks([])\n",
        "    plt.yticks([])\n",
        "    plt.grid(False)\n",
        "    plt.imshow(image, cmap=plt.cm.binary)\n",
        "    plt.xlabel(class_names[label])\n",
        "    i += 1\n",
        "plt.show()"
      ],
      "execution_count": 0,
      "outputs": [
        {
          "output_type": "display_data",
          "data": {
            "image/png": "[encoded data removed]",
            "text/plain": [
              "<Figure size 720x720 with 25 Axes>"
            ]
          },
          "metadata": {
            "tags": []
          }
        }
      ]
    },
    {
      "metadata": {
        "id": "7awIfRFdW4g6",
        "colab_type": "text"
      },
      "cell_type": "markdown",
      "source": [
        "## Qui connait la regression lineaire ?\n"
      ]
    },
    {
      "metadata": {
        "id": "DkZ8VYXTXBor",
        "colab_type": "text"
      },
      "cell_type": "markdown",
      "source": [
        "## Et la regression logistique ?"
      ]
    },
    {
      "metadata": {
        "id": "kFUKLbY6XTAa",
        "colab_type": "text"
      },
      "cell_type": "markdown",
      "source": [
        "## Et pour finir les arbre de decision ou meilleur que ca Random Forrest (Foret aleatoire BURK)"
      ]
    },
    {
      "metadata": {
        "colab_type": "text",
        "id": "59veuiEZCaW4"
      },
      "cell_type": "markdown",
      "source": [
        "## Construction du model\n",
        "\n",
        "On va commencer par creer les couches qui vont etre utiliser pour apprendre les parametres du mode, puis initaliser le model en utilisant la methode build avec la fonction d'optimization et la fonction de perte qu'on veut utiliser"
      ]
    },
    {
      "metadata": {
        "colab_type": "text",
        "id": "Gxg1XGm0eOBy"
      },
      "cell_type": "markdown",
      "source": [
        "### mise en place des couches"
      ]
    },
    {
      "metadata": {
        "colab_type": "code",
        "id": "9ODch-OFCaW4",
        "colab": {}
      },
      "cell_type": "code",
      "source": [
        "input_layer = tf.keras.layers.Flatten(input_shape=(28, 28, 1))\n",
        "hidden_layer = tf.keras.layers.Dense(128, activation=tf.nn.sigmoid)\n",
        "output_layer = tf.keras.layers.Dense(10,  activation=tf.nn.softmax)\n",
        "layers = [input_layer, hidden_layer, output_layer]\n",
        "model = tf.keras.Sequential(layers)"
      ],
      "execution_count": 0,
      "outputs": []
    },
    {
      "metadata": {
        "colab_type": "text",
        "id": "gut8A_7rCaW6"
      },
      "cell_type": "markdown",
      "source": [
        "On a trois couches:\n",
        "\n",
        "* **input ou flatten layer** on l'utiliser ici pour transformer les images de 28 x 28 en un seul vecteur de 784 elements\n",
        "\n",
        "* **\"une couche cachee\"** cette couche est la base de notre modele, elle va apprendre des parametres qui quand multiplier avec le vecteur en entree vont donner une \"meilleure\" representation de l'image du point de vue du model(une representation plus cocise et simple a interpreter pour une machine)\n",
        "\n",
        "* **une couche de sortie** cette couche va donner en sortie 10 valeurs(ca vous rappele rien ) c'est le nombre de categories sur notre jeu de donnees, donc ces 10 sorties sont just des probabilites, chacune representant la probabilite que l'image appartient a une categorie. (softmax je t'aime, sigmoid => Et moi ? )\n",
        "\n",
        "\n",
        "### Compilation du modele\n",
        "\n",
        "Le modele a besoin d'autres parametres pour savoir QUOI et COMMENT faire lors de l'apprentissage\n",
        "\n",
        "* *La focntion de perte* — Une fonction pour mesurer la performance du model. \n",
        "* *L'optimisateur* — Une fonction qui va etre utilise pour optimiser le model cad dimunier au maximum la valeur de sortie de la fonction de perte \n",
        "* *Les metriques* — Les metriques sont utilisees pour estimer les performance du modele, ici on va utiliser l'accuracy(exactitude)"
      ]
    },
    {
      "metadata": {
        "colab_type": "code",
        "id": "Lhan11blCaW7",
        "colab": {}
      },
      "cell_type": "code",
      "source": [
        "model.compile(\n",
        "    optimizer='adam', \n",
        "    loss='sparse_categorical_crossentropy',\n",
        "    metrics=['accuracy']\n",
        ")"
      ],
      "execution_count": 0,
      "outputs": []
    },
    {
      "metadata": {
        "colab_type": "text",
        "id": "qKF6uW-BCaW-"
      },
      "cell_type": "markdown",
      "source": [
        "## Entrainons le model\n",
        "- on donne le nombre d'images qui compose un batch(apres chaque batch on reevalue les parametres en utilisant la fonction d'optimisation)\n",
        "- On donne aussi le nombre d'iterations (epocs)\n",
        "- et pour finir le nombre de steps par epochs (nombre de batch a consomer pour consider un epoch)"
      ]
    },
    {
      "metadata": {
        "colab_type": "code",
        "id": "o_Dp8971McQ1",
        "colab": {}
      },
      "cell_type": "code",
      "source": [
        "BATCH_SIZE = 32\n",
        "train_dataset = train_dataset.repeat().shuffle(num_train_examples).batch(BATCH_SIZE)\n",
        "test_dataset = test_dataset.batch(BATCH_SIZE)"
      ],
      "execution_count": 0,
      "outputs": []
    },
    {
      "metadata": {
        "colab_type": "code",
        "id": "xvwvpA64CaW_",
        "outputId": "6f3d3310-e16b-4f1d-ea6b-9c98a78c06c6",
        "colab": {
          "base_uri": "https://localhost:8080/",
          "height": 187
        }
      },
      "cell_type": "code",
      "source": [
        "history = model.fit(train_dataset, epochs=5, steps_per_epoch=math.ceil(num_train_examples/BATCH_SIZE))"
      ],
      "execution_count": 0,
      "outputs": [
        {
          "output_type": "stream",
          "text": [
            "Epoch 1/5\n",
            "1875/1875 [==============================] - 35s 19ms/step - loss: 0.5396 - accuracy: 0.8148\n",
            "Epoch 2/5\n",
            "1875/1875 [==============================] - 22s 12ms/step - loss: 0.3913 - accuracy: 0.8595\n",
            "Epoch 3/5\n",
            "1875/1875 [==============================] - 22s 12ms/step - loss: 0.3536 - accuracy: 0.8735\n",
            "Epoch 4/5\n",
            "1875/1875 [==============================] - 22s 12ms/step - loss: 0.3273 - accuracy: 0.8821\n",
            "Epoch 5/5\n",
            "1875/1875 [==============================] - 22s 12ms/step - loss: 0.3077 - accuracy: 0.8881\n"
          ],
          "name": "stdout"
        }
      ]
    },
    {
      "metadata": {
        "id": "sDDj2kQEadvM",
        "colab_type": "code",
        "outputId": "9448a5dc-0b2f-4a7b-c754-57fcb2905be0",
        "colab": {
          "base_uri": "https://localhost:8080/",
          "height": 465
        }
      },
      "cell_type": "code",
      "source": [
        "plt.xlabel('Epoch Number')\n",
        "plt.ylabel('Loss Magnitude')\n",
        "plt.plot(history.history['loss'])\n",
        "history.history"
      ],
      "execution_count": 0,
      "outputs": [
        {
          "output_type": "execute_result",
          "data": {
            "text/plain": [
              "{'accuracy': [0.81485, 0.8595333, 0.8735, 0.8821333, 0.88808334],\n",
              " 'loss': [0.5396169630527496,\n",
              "  0.3913085349480311,\n",
              "  0.35356516773700714,\n",
              "  0.3272603239138921,\n",
              "  0.3076890793045362]}"
            ]
          },
          "metadata": {
            "tags": []
          },
          "execution_count": 16
        },
        {
          "output_type": "display_data",
          "data": {
            "image/png": "[encoded data removed]",
            "text/plain": [
              "<Figure size 576x396 with 1 Axes>"
            ]
          },
          "metadata": {
            "tags": []
          }
        }
      ]
    },
    {
      "metadata": {
        "colab_type": "text",
        "id": "W3ZVOhugCaXA"
      },
      "cell_type": "markdown",
      "source": [
        "On constate que durant l'apprentissage la fonction de perte dimunie, alors que la metrique accuracy augmente (deep learning is easy or not)"
      ]
    },
    {
      "metadata": {
        "id": "-h6XjCUGo1JP",
        "colab_type": "text"
      },
      "cell_type": "markdown",
      "source": [
        "## Que se passerait-il si on re-execute model.compile apres avoir entraine le modele?"
      ]
    },
    {
      "metadata": {
        "colab_type": "text",
        "id": "oEw4bZgGCaXB"
      },
      "cell_type": "markdown",
      "source": [
        "## Evaluons notre model\n",
        "\n",
        "On va maintenant utiliser le jeu de test pour evaluer le model(les choses serieuses commencent)"
      ]
    },
    {
      "metadata": {
        "colab_type": "code",
        "id": "VflXLEeECaXC",
        "outputId": "ad60dfa2-4c8c-40c5-a7af-9cc52fa82191",
        "colab": {
          "base_uri": "https://localhost:8080/",
          "height": 51
        }
      },
      "cell_type": "code",
      "source": [
        "test_loss, test_accuracy = model.evaluate(test_dataset, steps=math.ceil(num_test_examples/32))\n",
        "print(\"l'exactitude sur le jeu de test :\", test_accuracy)"
      ],
      "execution_count": 0,
      "outputs": [
        {
          "output_type": "stream",
          "text": [
            "313/313 [==============================] - 3s 10ms/step - loss: 0.3519 - accuracy: 0.8723\n",
            "l'exactitude sur le jeu de test : 0.8723\n"
          ],
          "name": "stdout"
        }
      ]
    },
    {
      "metadata": {
        "colab_type": "text",
        "id": "yWfgsmVXCaXG"
      },
      "cell_type": "markdown",
      "source": [
        "Hummm, c'est quoi ca .** LOU XEWW  FI** ???? \n",
        "\n",
        "eh bien, On a perdu en accuracy. C'est la vie avec les jeux de test et ca peut etre pire dans certains cas(Overfitting is your ENEMY)"
      ]
    },
    {
      "metadata": {
        "id": "j9zRQtkQQzli",
        "colab_type": "text"
      },
      "cell_type": "markdown",
      "source": [
        "##Et si moi je tiens a tout prix a diminuer cet ecart => Maybe use Random Forrest ?\n",
        "\n",
        "## Hummm je veux pas quitter ce monde moi => Dropout is calling RING RING RING ..."
      ]
    },
    {
      "metadata": {
        "colab_type": "text",
        "id": "xsoS7CPDCaXH"
      },
      "cell_type": "markdown",
      "source": [
        "## Explorons les prédictions de notre modèle\n",
        "\n"
      ]
    },
    {
      "metadata": {
        "colab_type": "code",
        "id": "Ccoz4conNCpl",
        "colab": {}
      },
      "cell_type": "code",
      "source": [
        "for test_images, test_labels in test_dataset.take(1):\n",
        "  test_images = test_images.numpy()\n",
        "  test_labels = test_labels.numpy()\n",
        "  predictions = model.predict(test_images)"
      ],
      "execution_count": 0,
      "outputs": []
    },
    {
      "metadata": {
        "colab_type": "code",
        "id": "Gl91RPhdCaXI",
        "colab": {}
      },
      "cell_type": "code",
      "source": [
        "predictions.shape"
      ],
      "execution_count": 0,
      "outputs": []
    },
    {
      "metadata": {
        "colab_type": "text",
        "id": "x9Kk1voUCaXJ"
      },
      "cell_type": "markdown",
      "source": [
        "Analyson la prediction de la premiere image parmi les 32 constituant le batch qu'on va donne a notre model"
      ]
    },
    {
      "metadata": {
        "colab_type": "code",
        "id": "3DmJEUinCaXK",
        "colab": {}
      },
      "cell_type": "code",
      "source": [
        "predictions[0]"
      ],
      "execution_count": 0,
      "outputs": []
    },
    {
      "metadata": {
        "colab_type": "text",
        "id": "-hw1hgeSCaXN"
      },
      "cell_type": "markdown",
      "source": [
        "Ici une prediction est compose de 10 folttantes tel que chaque element represente la probabilite donnee par notre modele pour dire si l'image est associee a ladite categorie. c'est donc la confiance que notre modele a dans la classification de l'image par rapport a cette categorie.\n",
        "\n",
        "PAr exemple si predictions[0][0] = 0.9 cela voudrait dire que le modele est sur a 90% que l'image appartirnt a la categorie 0 donc T-shirt si on se refere au tableau class_names"
      ]
    },
    {
      "metadata": {
        "colab_type": "code",
        "id": "qsqenuPnCaXO",
        "colab": {}
      },
      "cell_type": "code",
      "source": [
        "np.argmax(predictions[0])"
      ],
      "execution_count": 0,
      "outputs": []
    },
    {
      "metadata": {
        "colab_type": "text",
        "id": "E51yS7iCCaXO"
      },
      "cell_type": "markdown",
      "source": [
        "Donc la grace a la fonction argmax de numpy on constate que le modele predit que l'image est un t-shirt et ceci est verifiable en utilisant le label reel associe a l'image (YUPI)"
      ]
    },
    {
      "metadata": {
        "colab_type": "code",
        "id": "Sd7Pgsu6CaXP",
        "colab": {}
      },
      "cell_type": "code",
      "source": [
        "test_labels[0]"
      ],
      "execution_count": 0,
      "outputs": []
    },
    {
      "metadata": {
        "colab_type": "text",
        "id": "ygh2yYC972ne"
      },
      "cell_type": "markdown",
      "source": [
        "Maintenant essayons d'afficher dans un graphique la distribution de probabilite que notre model donne cad les 10 flottantes donnees en sortie"
      ]
    },
    {
      "metadata": {
        "colab_type": "code",
        "id": "DvYmmrpIy6Y1",
        "colab": {}
      },
      "cell_type": "code",
      "source": [
        "def plot_image(i, predictions_array, true_labels, images):\n",
        "  predictions_array, true_label, img = predictions_array[i], true_labels[i], images[i]\n",
        "  plt.grid(False)\n",
        "  plt.xticks([])\n",
        "  plt.yticks([])\n",
        "  \n",
        "  plt.imshow(img[...,0], cmap=plt.cm.binary)\n",
        "\n",
        "  predicted_label = np.argmax(predictions_array)\n",
        "  if predicted_label == true_label:\n",
        "    color = 'blue'\n",
        "  else:\n",
        "    color = 'red'\n",
        "  \n",
        "  plt.xlabel(\"{} {:2.0f}% ({})\".format(class_names[predicted_label],\n",
        "                                100*np.max(predictions_array),\n",
        "                                class_names[true_label]),\n",
        "                                color=color)\n",
        "\n",
        "def plot_value_array(i, predictions_array, true_label):\n",
        "  predictions_array, true_label = predictions_array[i], true_label[i]\n",
        "  plt.grid(False)\n",
        "  plt.xticks([])\n",
        "  plt.yticks([])\n",
        "  thisplot = plt.bar(range(10), predictions_array, color=\"#777777\")\n",
        "  plt.ylim([0, 1]) \n",
        "  predicted_label = np.argmax(predictions_array)\n",
        " \n",
        "  thisplot[predicted_label].set_color('red')\n",
        "  thisplot[true_label].set_color('blue')"
      ],
      "execution_count": 0,
      "outputs": []
    },
    {
      "metadata": {
        "colab_type": "text",
        "id": "d4Ov9OFDMmOD"
      },
      "cell_type": "markdown",
      "source": [
        "Regardons a nouveau la premiere image "
      ]
    },
    {
      "metadata": {
        "colab_type": "code",
        "id": "HV5jw-5HwSmO",
        "colab": {}
      },
      "cell_type": "code",
      "source": [
        "i = 0\n",
        "plt.figure(figsize=(6,3))\n",
        "plt.subplot(1,2,1)\n",
        "plot_image(i, predictions, test_labels, test_images)\n",
        "plt.subplot(1,2,2)\n",
        "plot_value_array(i, predictions,  test_labels)"
      ],
      "execution_count": 0,
      "outputs": []
    },
    {
      "metadata": {
        "colab_type": "code",
        "id": "Ko-uzOufSCSe",
        "colab": {}
      },
      "cell_type": "code",
      "source": [
        "i = 12\n",
        "plt.figure(figsize=(6,3))\n",
        "plt.subplot(1,2,1)\n",
        "plot_image(i, predictions, test_labels, test_images)\n",
        "plt.subplot(1,2,2)\n",
        "plot_value_array(i, predictions,  test_labels)"
      ],
      "execution_count": 0,
      "outputs": []
    },
    {
      "metadata": {
        "colab_type": "text",
        "id": "kgdvGD52CaXR"
      },
      "cell_type": "markdown",
      "source": [
        "On va maintenant regarder plusieurs images pour comparer et mieux apprecier les predictions faites par notre model. Quand c'est ROUGE c'est une mauvaise predictions et quand c'est BLEU c'est une bonne prediction. "
      ]
    },
    {
      "metadata": {
        "colab_type": "code",
        "id": "hQlnbqaw2Qu_",
        "colab": {}
      },
      "cell_type": "code",
      "source": [
        "num_rows = 5\n",
        "num_cols = 3\n",
        "num_images = num_rows*num_cols\n",
        "plt.figure(figsize=(2*2*num_cols, 2*num_rows))\n",
        "for i in range(num_images):\n",
        "  plt.subplot(num_rows, 2*num_cols, 2*i+1)\n",
        "  plot_image(i, predictions, test_labels, test_images)\n",
        "  plt.subplot(num_rows, 2*num_cols, 2*i+2)\n",
        "  plot_value_array(i, predictions, test_labels)\n"
      ],
      "execution_count": 0,
      "outputs": []
    },
    {
      "metadata": {
        "id": "ajky1a12E2wh",
        "colab_type": "text"
      },
      "cell_type": "markdown",
      "source": [
        "## DOJO Time\n",
        "\n",
        "### Go Go Go Les Ninjas\n",
        "\n",
        "![alt text](https://media.giphy.com/media/gQi6UyCjtKxwY/giphy.gif)"
      ]
    },
    {
      "metadata": {
        "id": "erAJbkWeeB1b",
        "colab_type": "text"
      },
      "cell_type": "markdown",
      "source": [
        "* ### Que constatez-vous (Figure) ?\n",
        "\n",
        "\n"
      ]
    },
    {
      "metadata": {
        "colab_type": "text",
        "id": "R32zteKHCaXT"
      },
      "cell_type": "markdown",
      "source": [
        "Maintenant placons nous dans la vie reelle, cad qu'on a une seule image qu'on voudrait prédire"
      ]
    },
    {
      "metadata": {
        "colab_type": "code",
        "id": "yRJ7JU7JCaXT",
        "outputId": "8351bd78-cafd-410d-bb25-45749b166f5a",
        "colab": {
          "base_uri": "https://localhost:8080/",
          "height": 34
        }
      },
      "cell_type": "code",
      "source": [
        "img = test_images[0]\n",
        "\n",
        "print(img.shape)"
      ],
      "execution_count": 0,
      "outputs": [
        {
          "output_type": "stream",
          "text": [
            "(28, 28, 1)\n"
          ],
          "name": "stdout"
        }
      ]
    },
    {
      "metadata": {
        "id": "Zpz7NvLdfkek",
        "colab_type": "text"
      },
      "cell_type": "markdown",
      "source": [
        "* ### Utiliser le modèle pour prédire l'image qui se trouve dans la variable img"
      ]
    },
    {
      "metadata": {
        "colab_type": "code",
        "id": "6Ai-cpLjO-3A",
        "colab": {}
      },
      "cell_type": "code",
      "source": [
        "plot_value_array(0, predictions_single, test_labels)\n",
        "_ = plt.xticks(range(10), class_names, rotation=45)"
      ],
      "execution_count": 0,
      "outputs": []
    },
    {
      "metadata": {
        "colab_type": "text",
        "id": "cU1Y2OAMCaXb"
      },
      "cell_type": "markdown",
      "source": [
        "* ### Donner la categorie de l'image qui a été prédite par le modèle"
      ]
    },
    {
      "metadata": {
        "id": "SY79T08-oKw2",
        "colab_type": "code",
        "outputId": "9dcb3690-87f2-488f-bdd3-de52883675e2",
        "colab": {
          "base_uri": "https://localhost:8080/",
          "height": 364
        }
      },
      "cell_type": "code",
      "source": [
        "plt.imshow(my_image[..., 0])"
      ],
      "execution_count": 0,
      "outputs": [
        {
          "output_type": "execute_result",
          "data": {
            "text/plain": [
              "<matplotlib.image.AxesImage at 0x7f2e6af93cf8>"
            ]
          },
          "metadata": {
            "tags": []
          },
          "execution_count": 25
        },
        {
          "output_type": "display_data",
          "data": {
            "image/png": "[encoded data removed]",
            "text/plain": [
              "<Figure size 576x396 with 1 Axes>"
            ]
          },
          "metadata": {
            "tags": []
          }
        }
      ]
    },
    {
      "metadata": {
        "id": "7CXeSNbSoYAR",
        "colab_type": "text"
      },
      "cell_type": "markdown",
      "source": [
        "* ### Predire aussi  l'image qui se trouve dans la variable my_image"
      ]
    },
    {
      "metadata": {
        "id": "WV2q82gtDoHF",
        "colab_type": "code",
        "colab": {}
      },
      "cell_type": "code",
      "source": [
        "# Go Go Go Ninjas !"
      ],
      "execution_count": 0,
      "outputs": []
    },
    {
      "metadata": {
        "colab_type": "text",
        "id": "-KtnHECKZni_"
      },
      "cell_type": "markdown",
      "source": [
        "### A faire a la maison (mauvais souvenirs 🤪😜 )\n",
        "\n",
        "Jouez avec les hyperprametres et les donnees :\n",
        "*   Faites varier le nombre d'epochs de 1a 5 pour voir l'impact\n",
        "*   Changer le nombre de neurones utilises dans le hidden layer et aussi le nombre de couches cachees\n",
        "*   Ne pas normaliser les images (SURPRISE) => Essayer de bien comprendre les raisons de cette surprise"
      ]
    },
    {
      "metadata": {
        "colab_type": "code",
        "id": "WIIYx5IIfwF0",
        "colab": {}
      },
      "cell_type": "code",
      "source": [
        ""
      ],
      "execution_count": 0,
      "outputs": []
    },
    {
      "metadata": {
        "id": "5Mlpw6p_-CFh",
        "colab_type": "text"
      },
      "cell_type": "markdown",
      "source": [
        "# Utilisation des réseaux de neurones convolutionnels\n",
        "\n",
        "![alt text](https://cdn-images-1.medium.com/max/2400/1*vkQ0hXDaQv57sALXAJquxA.jpeg)"
      ]
    },
    {
      "metadata": {
        "id": "y66mnYZNB54t",
        "colab_type": "text"
      },
      "cell_type": "markdown",
      "source": [
        "### Construction de notre modèle"
      ]
    },
    {
      "metadata": {
        "id": "f-u36fH0mXen",
        "colab_type": "code",
        "colab": {}
      },
      "cell_type": "code",
      "source": [
        "model = tf.keras.Sequential([\n",
        "    tf.keras.layers.Conv2D(32, (3,3), padding='same', activation=tf.nn.relu, input_shape=(28, 28, 1)),\n",
        "    tf.keras.layers.MaxPooling2D((2, 2), strides=2),\n",
        "    tf.keras.layers.Conv2D(64, (3,3), padding='same', activation=tf.nn.relu),\n",
        "    tf.keras.layers.MaxPooling2D((2, 2), strides=2),\n",
        "    tf.keras.layers.Flatten(),\n",
        "    tf.keras.layers.Dense(128, activation=tf.nn.relu),\n",
        "    tf.keras.layers.Dense(10,  activation=tf.nn.softmax)\n",
        "])"
      ],
      "execution_count": 0,
      "outputs": []
    },
    {
      "metadata": {
        "id": "ipDeHJAUCWHf",
        "colab_type": "text"
      },
      "cell_type": "markdown",
      "source": [
        "### Compilation du modèle"
      ]
    },
    {
      "metadata": {
        "colab_type": "code",
        "id": "MbSXMs-_3Qry",
        "colab": {}
      },
      "cell_type": "code",
      "source": [
        "model.compile(\n",
        "    optimizer='adam', \n",
        "    loss='sparse_categorical_crossentropy',\n",
        "    metrics=['accuracy']\n",
        ")"
      ],
      "execution_count": 0,
      "outputs": []
    },
    {
      "metadata": {
        "id": "8uja8qCQCnh_",
        "colab_type": "text"
      },
      "cell_type": "markdown",
      "source": [
        "### Préparation de nos données sous forme de batch"
      ]
    },
    {
      "metadata": {
        "colab_type": "code",
        "id": "-q8uvAQz3YSL",
        "colab": {}
      },
      "cell_type": "code",
      "source": [
        "BATCH_SIZE = 32\n",
        "train_dataset = train_dataset.repeat().shuffle(num_train_examples).batch(BATCH_SIZE)\n",
        "test_dataset = test_dataset.batch(BATCH_SIZE)"
      ],
      "execution_count": 0,
      "outputs": []
    },
    {
      "metadata": {
        "id": "jyhPwCOnCuT7",
        "colab_type": "text"
      },
      "cell_type": "markdown",
      "source": [
        "### On entraine notre modèle et on garde l'histoire"
      ]
    },
    {
      "metadata": {
        "colab_type": "code",
        "id": "iFamYx2O3dii",
        "colab": {}
      },
      "cell_type": "code",
      "source": [
        "history = model.fit(train_dataset, epochs=5, steps_per_epoch=math.ceil(num_train_examples/BATCH_SIZE))"
      ],
      "execution_count": 0,
      "outputs": []
    },
    {
      "metadata": {
        "id": "vaxpyWzUC5Me",
        "colab_type": "text"
      },
      "cell_type": "markdown",
      "source": [
        "### On affiche la courbe d'évolution de notre fonction de perte en fonction des époques "
      ]
    },
    {
      "metadata": {
        "colab_type": "code",
        "id": "sb5_Y-lJ3jv7",
        "colab": {}
      },
      "cell_type": "code",
      "source": [
        "plt.xlabel('Epoch Number')\n",
        "plt.ylabel('Loss Magnitude')\n",
        "plt.plot(history.history['loss'])"
      ],
      "execution_count": 0,
      "outputs": []
    },
    {
      "metadata": {
        "id": "ZMuefwGbDJdE",
        "colab_type": "text"
      },
      "cell_type": "markdown",
      "source": [
        "### On teste notre modéle pour constater la différence"
      ]
    },
    {
      "metadata": {
        "colab_type": "code",
        "id": "xwuE4zt13pmp",
        "colab": {}
      },
      "cell_type": "code",
      "source": [
        "test_loss, test_accuracy = model.evaluate(test_dataset, steps=math.ceil(num_test_examples/32))\n",
        "print(\"l'exactitude sur le jeu de test :\", test_accuracy)"
      ],
      "execution_count": 0,
      "outputs": []
    }
  ]
}